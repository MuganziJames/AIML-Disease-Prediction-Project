{
 "cells": [
  {
   "cell_type": "markdown",
   "metadata": {},
   "source": [
    "# Heart Disease Prediction — Colab Training and Evaluation\n",
    "\n",
    "Open in Google Colab. Upload `heart_dataset.csv` when prompted, then run all cells.\n"
   ]
  },
  {
   "cell_type": "code",
   "execution_count": null,
   "metadata": {
    "execution": {
     "iopub.execute_input": "2025-08-29T18:02:36.058501Z",
     "iopub.status.busy": "2025-08-29T18:02:36.057398Z",
     "iopub.status.idle": "2025-08-29T18:02:40.373490Z",
     "shell.execute_reply": "2025-08-29T18:02:40.373490Z"
    }
   },
   "outputs": [],
   "source": [
    "import pandas as pd\n",
    "import numpy as np\n",
    "from sklearn.model_selection import train_test_split\n",
    "from sklearn.compose import ColumnTransformer\n",
    "from sklearn.preprocessing import OneHotEncoder, StandardScaler\n",
    "from sklearn.impute import SimpleImputer\n",
    "from sklearn.pipeline import Pipeline\n",
    "from sklearn.linear_model import LogisticRegression\n",
    "from sklearn.tree import DecisionTreeClassifier\n",
    "from sklearn.ensemble import RandomForestClassifier\n",
    "from sklearn.metrics import accuracy_score, precision_score, recall_score, f1_score, roc_auc_score, confusion_matrix, roc_curve\n",
    "import matplotlib.pyplot as plt\n",
    "import seaborn as sns\n"
   ]
  },
  {
   "cell_type": "code",
   "execution_count": null,
   "metadata": {
    "execution": {
     "iopub.execute_input": "2025-08-29T18:02:40.373490Z",
     "iopub.status.busy": "2025-08-29T18:02:40.373490Z",
     "iopub.status.idle": "2025-08-29T18:02:40.389681Z",
     "shell.execute_reply": "2025-08-29T18:02:40.389681Z"
    }
   },
   "outputs": [],
   "source": [
    "import sys\n",
    "IN_COLAB = 'google.colab' in sys.modules\n",
    "if IN_COLAB:\n",
    "    from google.colab import files\n",
    "    uploaded = files.upload()\n"
   ]
  },
  {
   "cell_type": "code",
   "execution_count": null,
   "metadata": {
    "execution": {
     "iopub.execute_input": "2025-08-29T18:02:40.396254Z",
     "iopub.status.busy": "2025-08-29T18:02:40.396254Z",
     "iopub.status.idle": "2025-08-29T18:02:40.434557Z",
     "shell.execute_reply": "2025-08-29T18:02:40.434557Z"
    }
   },
   "outputs": [],
   "source": [
    "from pathlib import Path\n",
    "possible_paths = ['heart_dataset.csv', 'data/heart_dataset.csv', '../data/heart_dataset.csv', '/content/heart_dataset.csv']\n",
    "for p in possible_paths:\n",
    "    if Path(p).exists():\n",
    "        data_path = p\n",
    "        break\n",
    "df = pd.read_csv(data_path)\n",
    "df.head()\n"
   ]
  },
  {
   "cell_type": "code",
   "execution_count": null,
   "metadata": {
    "execution": {
     "iopub.execute_input": "2025-08-29T18:02:40.497395Z",
     "iopub.status.busy": "2025-08-29T18:02:40.497395Z",
     "iopub.status.idle": "2025-08-29T18:02:40.523259Z",
     "shell.execute_reply": "2025-08-29T18:02:40.523259Z"
    }
   },
   "outputs": [],
   "source": [
    "if 'target' not in df.columns:\n",
    "    risk = np.zeros(len(df), dtype=int)\n",
    "    if 'age' in df.columns:\n",
    "        risk += (df['age'] >= 55).astype(int)\n",
    "    if 'trestbps' in df.columns:\n",
    "        risk += (df['trestbps'] >= 140).astype(int)\n",
    "    if 'chol' in df.columns:\n",
    "        risk += (df['chol'] >= 240).astype(int)\n",
    "    if 'oldpeak' in df.columns:\n",
    "        risk += pd.to_numeric(df['oldpeak'], errors='coerce').fillna(0).ge(1.0).astype(int)\n",
    "    if 'exang' in df.columns:\n",
    "        risk += df['exang'].astype(str).isin(['True','1','true']).astype(int)\n",
    "    if 'cp_asymptomatic' in df.columns:\n",
    "        risk += (df['cp_asymptomatic'] == 1).astype(int)\n",
    "    df['target'] = (risk >= 2).astype(int)\n"
   ]
  },
  {
   "cell_type": "code",
   "execution_count": null,
   "metadata": {
    "execution": {
     "iopub.execute_input": "2025-08-29T18:02:40.529150Z",
     "iopub.status.busy": "2025-08-29T18:02:40.529150Z",
     "iopub.status.idle": "2025-08-29T18:02:40.541783Z",
     "shell.execute_reply": "2025-08-29T18:02:40.541783Z"
    }
   },
   "outputs": [],
   "source": [
    "target_col = 'target'\n",
    "feature_cols = [c for c in df.columns if c != target_col]\n",
    "X = df[feature_cols]\n",
    "y = df[target_col]\n",
    "cat_cols = X.select_dtypes(include=['object','category']).columns.tolist()\n",
    "num_cols = X.select_dtypes(include=[np.number]).columns.tolist()\n"
   ]
  },
  {
   "cell_type": "code",
   "execution_count": null,
   "metadata": {
    "execution": {
     "iopub.execute_input": "2025-08-29T18:02:40.550167Z",
     "iopub.status.busy": "2025-08-29T18:02:40.548007Z",
     "iopub.status.idle": "2025-08-29T18:02:40.556347Z",
     "shell.execute_reply": "2025-08-29T18:02:40.556347Z"
    }
   },
   "outputs": [],
   "source": [
    "numeric_transformer = Pipeline(steps=[\n",
    "    ('imputer', SimpleImputer(strategy='median')),\n",
    "    ('scaler', StandardScaler())\n",
    "])\n",
    "\n",
    "categorical_transformer = Pipeline(steps=[\n",
    "    ('imputer', SimpleImputer(strategy='most_frequent')),\n",
    "    ('encoder', OneHotEncoder(handle_unknown='ignore'))\n",
    "])\n",
    "\n",
    "preprocessor = ColumnTransformer([\n",
    "    ('num', numeric_transformer, num_cols),\n",
    "    ('cat', categorical_transformer, cat_cols)\n",
    "])\n"
   ]
  },
  {
   "cell_type": "code",
   "execution_count": null,
   "metadata": {
    "execution": {
     "iopub.execute_input": "2025-08-29T18:02:40.561302Z",
     "iopub.status.busy": "2025-08-29T18:02:40.561302Z",
     "iopub.status.idle": "2025-08-29T18:02:40.574500Z",
     "shell.execute_reply": "2025-08-29T18:02:40.574500Z"
    }
   },
   "outputs": [],
   "source": [
    "X_train, X_test, y_train, y_test = train_test_split(\n",
    "    X, y, test_size=0.2, random_state=42, stratify=y if y.nunique()==2 and len(y)>=20 else None\n",
    ")\n"
   ]
  },
  {
   "cell_type": "code",
   "execution_count": null,
   "metadata": {
    "execution": {
     "iopub.execute_input": "2025-08-29T18:02:40.576508Z",
     "iopub.status.busy": "2025-08-29T18:02:40.576508Z",
     "iopub.status.idle": "2025-08-29T18:02:40.588988Z",
     "shell.execute_reply": "2025-08-29T18:02:40.588988Z"
    }
   },
   "outputs": [],
   "source": [
    "models = {\n",
    "    'logistic_regression': LogisticRegression(max_iter=1000, random_state=42),\n",
    "    'decision_tree': DecisionTreeClassifier(random_state=42),\n",
    "    'random_forest': RandomForestClassifier(random_state=42, n_jobs=-1)\n",
    "}\n",
    "\n",
    "pipelines = {name: Pipeline(steps=[('preprocess', preprocessor), ('model', clf)]) for name, clf in models.items()}\n"
   ]
  },
  {
   "cell_type": "code",
   "execution_count": null,
   "metadata": {
    "execution": {
     "iopub.execute_input": "2025-08-29T18:02:40.595793Z",
     "iopub.status.busy": "2025-08-29T18:02:40.595793Z",
     "iopub.status.idle": "2025-08-29T18:02:41.181388Z",
     "shell.execute_reply": "2025-08-29T18:02:41.181388Z"
    }
   },
   "outputs": [],
   "source": [
    "results = []\n",
    "trained = {}\n",
    "for name, pipe in pipelines.items():\n",
    "    pipe.fit(X_train, y_train)\n",
    "    y_pred = pipe.predict(X_test)\n",
    "    metrics = {\n",
    "        'model': name,\n",
    "        'accuracy': accuracy_score(y_test, y_pred),\n",
    "        'precision': precision_score(y_test, y_pred, zero_division=0),\n",
    "        'recall': recall_score(y_test, y_pred, zero_division=0),\n",
    "        'f1': f1_score(y_test, y_pred, zero_division=0)\n",
    "    }\n",
    "    if hasattr(pipe.named_steps['model'], 'predict_proba'):\n",
    "        y_proba = pipe.predict_proba(X_test)[:,1]\n",
    "        metrics['roc_auc'] = roc_auc_score(y_test, y_proba)\n",
    "    else:\n",
    "        metrics['roc_auc'] = np.nan\n",
    "        y_proba = None\n",
    "    trained[name] = {'pipeline': pipe, 'y_pred': y_pred, 'y_proba': y_proba}\n",
    "    results.append(metrics)\n",
    "results_df = pd.DataFrame(results)\n",
    "results_df\n"
   ]
  },
  {
   "cell_type": "code",
   "execution_count": null,
   "metadata": {
    "execution": {
     "iopub.execute_input": "2025-08-29T18:02:41.181388Z",
     "iopub.status.busy": "2025-08-29T18:02:41.181388Z",
     "iopub.status.idle": "2025-08-29T18:02:41.194862Z",
     "shell.execute_reply": "2025-08-29T18:02:41.194862Z"
    }
   },
   "outputs": [],
   "source": [
    "best_idx = results_df['f1'].fillna(0).idxmax()\n",
    "best_name = results_df.loc[best_idx, 'model']\n",
    "best = trained[best_name]\n",
    "y_pred_best = best['y_pred']\n",
    "y_proba_best = best['y_proba']\n"
   ]
  },
  {
   "cell_type": "code",
   "execution_count": null,
   "metadata": {
    "execution": {
     "iopub.execute_input": "2025-08-29T18:02:41.194862Z",
     "iopub.status.busy": "2025-08-29T18:02:41.194862Z",
     "iopub.status.idle": "2025-08-29T18:02:41.568444Z",
     "shell.execute_reply": "2025-08-29T18:02:41.568444Z"
    }
   },
   "outputs": [],
   "source": [
    "fig, ax = plt.subplots(figsize=(5,4))\n",
    "cm = confusion_matrix(y_test, y_pred_best)\n",
    "sns.heatmap(cm, annot=True, fmt='d', cmap='Blues', cbar=False, ax=ax)\n",
    "ax.set_xlabel('Predicted')\n",
    "ax.set_ylabel('Actual')\n",
    "ax.set_title(f'Confusion Matrix - {best_name}')\n",
    "plt.show()\n",
    "\n",
    "if y_proba_best is not None:\n",
    "    fpr, tpr, _ = roc_curve(y_test, y_proba_best)\n",
    "    auc = roc_auc_score(y_test, y_proba_best)\n",
    "    plt.figure(figsize=(5,4))\n",
    "    plt.plot(fpr, tpr, label=f'AUC = {auc:.2f}')\n",
    "    plt.plot([0,1],[0,1],'--', color='gray')\n",
    "    plt.xlabel('False Positive Rate')\n",
    "    plt.ylabel('True Positive Rate')\n",
    "    plt.title(f'ROC Curve - {best_name}')\n",
    "    plt.legend()\n",
    "    plt.show()\n"
   ]
  }
 ],
 "metadata": {
  "kernelspec": {
   "display_name": "covid_env",
   "language": "python",
   "name": "covid_env"
  },
  "language_info": {
   "codemirror_mode": {
    "name": "ipython",
    "version": 3
   },
   "file_extension": ".py",
   "mimetype": "text/x-python",
   "name": "python",
   "nbconvert_exporter": "python",
   "pygments_lexer": "ipython3",
   "version": "3.12.3"
  }
 },
 "nbformat": 4,
 "nbformat_minor": 2
}
